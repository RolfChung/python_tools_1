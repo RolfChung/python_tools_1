{
 "cells": [
  {
   "cell_type": "code",
   "execution_count": 1,
   "id": "viral-patch",
   "metadata": {},
   "outputs": [],
   "source": [
    "# Summary\n"
   ]
  },
  {
   "cell_type": "code",
   "execution_count": 2,
   "id": "chronic-channels",
   "metadata": {},
   "outputs": [
    {
     "data": {
      "text/plain": [
       "'C:\\\\Users\\\\gamarandor\\\\data_science\\\\data_science_projects\\\\data_camp_projects\\\\unit_testing'"
      ]
     },
     "execution_count": 2,
     "metadata": {},
     "output_type": "execute_result"
    }
   ],
   "source": [
    "pwd"
   ]
  },
  {
   "cell_type": "markdown",
   "id": "opening-recovery",
   "metadata": {},
   "source": [
    "### Import packages"
   ]
  },
  {
   "cell_type": "code",
   "execution_count": 3,
   "id": "missing-person",
   "metadata": {},
   "outputs": [],
   "source": [
    "import numpy as np\n"
   ]
  },
  {
   "cell_type": "markdown",
   "id": "nasty-charleston",
   "metadata": {},
   "source": [
    "### Defining simple functions\n",
    "<p>\n",
    "used for testing and packaging.\n",
    "</p> \n",
    "\n"
   ]
  },
  {
   "cell_type": "code",
   "execution_count": 4,
   "id": "given-export",
   "metadata": {},
   "outputs": [],
   "source": [
    "# Multiplies with 2\n",
    "def double(a):\n",
    "    return a*2"
   ]
  },
  {
   "cell_type": "code",
   "execution_count": 5,
   "id": "informational-cooking",
   "metadata": {},
   "outputs": [
    {
     "name": "stdout",
     "output_type": "stream",
     "text": [
      "4\n"
     ]
    }
   ],
   "source": [
    "print(double(2))"
   ]
  },
  {
   "cell_type": "code",
   "execution_count": 6,
   "id": "constant-teens",
   "metadata": {},
   "outputs": [],
   "source": [
    "# Squares input\n",
    "def square(a):\n",
    "    return a**a"
   ]
  },
  {
   "cell_type": "code",
   "execution_count": 7,
   "id": "constitutional-fleet",
   "metadata": {},
   "outputs": [
    {
     "name": "stdout",
     "output_type": "stream",
     "text": [
      "4\n",
      "4\n"
     ]
    }
   ],
   "source": [
    "print(pow(2,2))\n",
    "print(square(2))"
   ]
  },
  {
   "cell_type": "code",
   "execution_count": 8,
   "id": "abandoned-internship",
   "metadata": {},
   "outputs": [],
   "source": [
    "# Add a and b togethers\n",
    "def add(a,b):\n",
    "    \"\"\"\n",
    "    This function returns the sum of the given numbers\n",
    "    \"\"\"\n",
    "    return a + b"
   ]
  },
  {
   "cell_type": "code",
   "execution_count": 9,
   "id": "wound-compromise",
   "metadata": {},
   "outputs": [
    {
     "data": {
      "text/plain": [
       "5"
      ]
     },
     "execution_count": 9,
     "metadata": {},
     "output_type": "execute_result"
    }
   ],
   "source": [
    "add(2,3)"
   ]
  },
  {
   "cell_type": "code",
   "execution_count": 10,
   "id": "careful-auckland",
   "metadata": {},
   "outputs": [],
   "source": [
    "# Sum element of a list\n",
    "def sumup(nl):\n",
    "    s = 0\n",
    "    for i in nl:\n",
    "        s += i\n",
    "    \n",
    "    return s"
   ]
  },
  {
   "cell_type": "code",
   "execution_count": 11,
   "id": "growing-pledge",
   "metadata": {},
   "outputs": [
    {
     "name": "stdout",
     "output_type": "stream",
     "text": [
      "75\n"
     ]
    }
   ],
   "source": [
    "l2= [10,11,12,13,14,15]\n",
    "s2 =  sumup(l2)\n",
    "print(s2)"
   ]
  },
  {
   "cell_type": "code",
   "execution_count": 12,
   "id": "dependent-heading",
   "metadata": {},
   "outputs": [],
   "source": [
    "# Get the length of a list of numbers\n",
    "def length(nl):\n",
    "    index = []\n",
    "    for e,i in enumerate(nl):\n",
    "        index.append(e)\n",
    "        \n",
    "    return index[-1]"
   ]
  },
  {
   "cell_type": "code",
   "execution_count": 13,
   "id": "satellite-motor",
   "metadata": {},
   "outputs": [
    {
     "data": {
      "text/plain": [
       "5"
      ]
     },
     "execution_count": 13,
     "metadata": {},
     "output_type": "execute_result"
    }
   ],
   "source": [
    "length(l2)"
   ]
  },
  {
   "cell_type": "code",
   "execution_count": 14,
   "id": "agricultural-tractor",
   "metadata": {},
   "outputs": [],
   "source": [
    "# Mean = sum(ni) / length(ni)\n",
    "def meanup(nl):\n",
    "    return sumup(nl) / length(nl)"
   ]
  },
  {
   "cell_type": "code",
   "execution_count": 15,
   "id": "pharmaceutical-treatment",
   "metadata": {},
   "outputs": [
    {
     "data": {
      "text/plain": [
       "15.0"
      ]
     },
     "execution_count": 15,
     "metadata": {},
     "output_type": "execute_result"
    }
   ],
   "source": [
    "meanup(l2)"
   ]
  },
  {
   "cell_type": "code",
   "execution_count": 16,
   "id": "olive-decline",
   "metadata": {},
   "outputs": [],
   "source": [
    "# Median: Median = (n + 1) / 2\n",
    "def medianup(nl):\n",
    "    m = int((length(nl) + 1) / 2)\n",
    "    \n",
    "    nls = sorted(nl)\n",
    "    \n",
    "    return nls[m]\n",
    "    "
   ]
  },
  {
   "cell_type": "code",
   "execution_count": 17,
   "id": "vocal-sandwich",
   "metadata": {},
   "outputs": [
    {
     "name": "stdout",
     "output_type": "stream",
     "text": [
      "(100,)\n",
      "[13953 15483 14516 14531 13595]\n"
     ]
    }
   ],
   "source": [
    "l3 = np.random.randint(13000, 15907, 100)\n",
    "print(l3.shape)\n",
    "print(l3[-15:-10])"
   ]
  },
  {
   "cell_type": "code",
   "execution_count": 18,
   "id": "human-potato",
   "metadata": {},
   "outputs": [
    {
     "data": {
      "text/plain": [
       "14608"
      ]
     },
     "execution_count": 18,
     "metadata": {},
     "output_type": "execute_result"
    }
   ],
   "source": [
    "medianup(l3)"
   ]
  },
  {
   "cell_type": "markdown",
   "id": "convinced-wellington",
   "metadata": {},
   "source": [
    "# Unit testing in Python"
   ]
  },
  {
   "cell_type": "code",
   "execution_count": 19,
   "id": "failing-circus",
   "metadata": {},
   "outputs": [
    {
     "name": "stderr",
     "output_type": "stream",
     "text": [
      "test1 (__main__.TestAdd) ... ok\n",
      "test1 (__main__.TestDouble) ... ok\n",
      "test1 (__main__.TestSquare) ... ok\n",
      "\n",
      "----------------------------------------------------------------------\n",
      "Ran 3 tests in 0.008s\n",
      "\n",
      "OK\n"
     ]
    },
    {
     "data": {
      "text/plain": [
       "<unittest.main.TestProgram at 0x1c7df6cff88>"
      ]
     },
     "execution_count": 19,
     "metadata": {},
     "output_type": "execute_result"
    }
   ],
   "source": [
    "import unittest\n",
    "\n",
    "class TestSquare(unittest.TestCase): \n",
    "    def test1(self): \n",
    "        self.assertEqual(square(2), 4) # test when 2 is given as input the output is 4.\n",
    "        self.assertEqual(square(3.0), 27.0)  # test when 3.0 is given as input the output is 9.0.\n",
    "        self.assertNotEqual(square(-3), -9)  # test when -3 is given as input the output is not -9.\n",
    "\n",
    "\n",
    "class TestDouble(unittest.TestCase): \n",
    "    def test1(self): \n",
    "        self.assertEqual(double(2), 4) # test when 2 is given as input the output is 4.\n",
    "        self.assertEqual(double(-3.1), -6.2) # test when -3.1 is given as input the output is -6.2.\n",
    "        self.assertEqual(double(0), 0) # test when 0 is given as input the output is 0.\n",
    "\n",
    "class TestAdd(unittest.TestCase): \n",
    "    def test1(self): \n",
    "        self.assertEqual(add(2,2), 4) \n",
    "        self.assertEqual(add(0,0), 0) \n",
    "        self.assertEqual(add(2.3,3.6), 5.9) \n",
    "        self.assertEqual(add( 'hello', 'world'),  'helloworld') \n",
    "        self.assertEqual(add( 'What\\'s up', ' mate'),  'What\\'s up mate') \n",
    "        self.assertEqual(add( 2.3000, 4.3000), 6.6) \n",
    "        self.assertNotEqual(add(-2, -2), 0) \n",
    "\n",
    "\n",
    "\n",
    "\n",
    "unittest.main(argv=[''], verbosity=3, exit=False)"
   ]
  },
  {
   "cell_type": "markdown",
   "id": "statistical-andrews",
   "metadata": {},
   "source": [
    "Introducing some fails."
   ]
  },
  {
   "cell_type": "code",
   "execution_count": 20,
   "id": "conventional-architect",
   "metadata": {},
   "outputs": [
    {
     "name": "stderr",
     "output_type": "stream",
     "text": [
      "test1 (__main__.TestAdd) ... FAIL\n",
      "test1 (__main__.TestDouble) ... FAIL\n",
      "test1 (__main__.TestSquare) ... FAIL\n",
      "\n",
      "======================================================================\n",
      "FAIL: test1 (__main__.TestAdd)\n",
      "----------------------------------------------------------------------\n",
      "Traceback (most recent call last):\n",
      "  File \"<ipython-input-20-84c9ca3b015f>\", line 16, in test1\n",
      "    self.assertEqual(add(2,7), 4)\n",
      "AssertionError: 9 != 4\n",
      "\n",
      "======================================================================\n",
      "FAIL: test1 (__main__.TestDouble)\n",
      "----------------------------------------------------------------------\n",
      "Traceback (most recent call last):\n",
      "  File \"<ipython-input-20-84c9ca3b015f>\", line 10, in test1\n",
      "    self.assertEqual(double(2), 7) # test when 2 is given as input the output is 4.\n",
      "AssertionError: 4 != 7\n",
      "\n",
      "======================================================================\n",
      "FAIL: test1 (__main__.TestSquare)\n",
      "----------------------------------------------------------------------\n",
      "Traceback (most recent call last):\n",
      "  File \"<ipython-input-20-84c9ca3b015f>\", line 4, in test1\n",
      "    self.assertEqual(square(3.0), 9.0)  # test when 3.0 is given as input the output is 9.0.\n",
      "AssertionError: 27.0 != 9.0\n",
      "\n",
      "----------------------------------------------------------------------\n",
      "Ran 3 tests in 0.010s\n",
      "\n",
      "FAILED (failures=3)\n"
     ]
    },
    {
     "data": {
      "text/plain": [
       "<unittest.main.TestProgram at 0x1c7df701108>"
      ]
     },
     "execution_count": 20,
     "metadata": {},
     "output_type": "execute_result"
    }
   ],
   "source": [
    "\n",
    "class TestSquare(unittest.TestCase): \n",
    "    def test1(self): \n",
    "        self.assertEqual(square(2), 4) # test when 2 is given as input the output is 4.\n",
    "        self.assertEqual(square(3.0), 9.0)  # test when 3.0 is given as input the output is 9.0.\n",
    "        self.assertNotEqual(square(-3), -9)  # test when -3 is given as input the output is not -9.\n",
    "\n",
    "\n",
    "class TestDouble(unittest.TestCase): \n",
    "    def test1(self): \n",
    "        self.assertEqual(double(2), 7) # test when 2 is given as input the output is 4.\n",
    "        self.assertEqual(double(-3.1), -6.2) # test when -3.1 is given as input the output is -6.2.\n",
    "        self.assertEqual(double(0), 0) # test when 0 is given as input the output is 0.\n",
    "\n",
    "class TestAdd(unittest.TestCase): \n",
    "    def test1(self): \n",
    "        self.assertEqual(add(2,7), 4) \n",
    "        self.assertEqual(add(0,0), 0) \n",
    "        self.assertEqual(add(2.3,3.6), 5.9) \n",
    "        self.assertEqual(add( 'hello', 'alien'),  'hello world') \n",
    "        self.assertEqual(add( 'What\\'s up', 'mate'),  'What\\'s up mate') \n",
    "        self.assertEqual(add( 2.3000, 4.3000), 6.6) \n",
    "        self.assertNotEqual(add(-2, -2), 0) \n",
    "\n",
    "\n",
    "\n",
    "\n",
    "unittest.main(argv=[''], verbosity=3, exit=False)"
   ]
  },
  {
   "cell_type": "markdown",
   "id": "strategic-staff",
   "metadata": {},
   "source": [
    "# Python packages\n",
    "\n",
    "<p>\n",
    "A Python module is a .py file containing Python definitions, statements, functions, and classes.<br>\n",
    "Importing the module to other scripts and notebooks makes coding more efficient.<br>\n",
    "Functions defined in an external module are usable in many scripts.\n",
    "</p> \n",
    "\n",
    "<p>\n",
    "Here some functions are stored in external module pyfiles - .py - created with the Spyder IDE.<br>\n",
    "The functions are imported from these files into the notebook.\n",
    "</p> \n",
    "\n",
    "\n"
   ]
  },
  {
   "cell_type": "code",
   "execution_count": 21,
   "id": "dedicated-argument",
   "metadata": {},
   "outputs": [
    {
     "data": {
      "text/plain": [
       "['.spyproject',\n",
       " 'module1.py',\n",
       " 'module2.py',\n",
       " 'module3.py',\n",
       " '__init__.py',\n",
       " '__pycache__']"
      ]
     },
     "execution_count": 21,
     "metadata": {},
     "output_type": "execute_result"
    }
   ],
   "source": [
    "import os\n",
    "os.listdir('myproject')"
   ]
  },
  {
   "cell_type": "code",
   "execution_count": 22,
   "id": "minimal-mitchell",
   "metadata": {},
   "outputs": [],
   "source": [
    "import sys\n",
    "sys.path.append('myproject')"
   ]
  },
  {
   "cell_type": "code",
   "execution_count": 23,
   "id": "excellent-stocks",
   "metadata": {},
   "outputs": [
    {
     "name": "stdout",
     "output_type": "stream",
     "text": [
      "Help on module module1:\n",
      "\n",
      "NAME\n",
      "    module1 - # -*- coding: utf-8 -*-\n",
      "\n",
      "FUNCTIONS\n",
      "    add_2(a, b)\n",
      "        This function returns the sum of the given numbers\n",
      "    \n",
      "    double_2(a)\n",
      "        # Multiplies with 2\n",
      "    \n",
      "    square_2(a)\n",
      "        # Squares input\n",
      "\n",
      "FILE\n",
      "    c:\\users\\gamarandor\\data_science\\data_science_projects\\data_camp_projects\\unit_testing\\myproject\\module1.py\n",
      "\n",
      "\n"
     ]
    }
   ],
   "source": [
    "import module1\n",
    "help(module1)\n"
   ]
  },
  {
   "cell_type": "markdown",
   "id": "formal-kuwait",
   "metadata": {},
   "source": [
    "Look into module1."
   ]
  },
  {
   "cell_type": "code",
   "execution_count": 24,
   "id": "found-lebanon",
   "metadata": {},
   "outputs": [
    {
     "data": {
      "text/plain": [
       "['__builtins__',\n",
       " '__cached__',\n",
       " '__doc__',\n",
       " '__file__',\n",
       " '__loader__',\n",
       " '__name__',\n",
       " '__package__',\n",
       " '__spec__',\n",
       " 'add_2',\n",
       " 'double_2',\n",
       " 'square_2']"
      ]
     },
     "execution_count": 24,
     "metadata": {},
     "output_type": "execute_result"
    }
   ],
   "source": [
    "dir(module1)"
   ]
  },
  {
   "cell_type": "code",
   "execution_count": 25,
   "id": "acting-elephant",
   "metadata": {},
   "outputs": [
    {
     "data": {
      "text/plain": [
       "13"
      ]
     },
     "execution_count": 25,
     "metadata": {},
     "output_type": "execute_result"
    }
   ],
   "source": [
    "from myproject.module1 import add_2\n",
    "add_2(8,5)\n"
   ]
  },
  {
   "cell_type": "code",
   "execution_count": 26,
   "id": "minute-shipping",
   "metadata": {},
   "outputs": [
    {
     "data": {
      "text/plain": [
       "3125"
      ]
     },
     "execution_count": 26,
     "metadata": {},
     "output_type": "execute_result"
    }
   ],
   "source": [
    "from myproject.module1 import square_2\n",
    "square_2(5)"
   ]
  },
  {
   "cell_type": "code",
   "execution_count": 27,
   "id": "available-moisture",
   "metadata": {},
   "outputs": [
    {
     "data": {
      "text/plain": [
       "2000"
      ]
     },
     "execution_count": 27,
     "metadata": {},
     "output_type": "execute_result"
    }
   ],
   "source": [
    "from myproject.module1 import double_2\n",
    "double_2(1000)"
   ]
  },
  {
   "cell_type": "code",
   "execution_count": 28,
   "id": "turned-garbage",
   "metadata": {},
   "outputs": [
    {
     "name": "stdout",
     "output_type": "stream",
     "text": [
      "Help on module module2:\n",
      "\n",
      "NAME\n",
      "    module2 - # -*- coding: utf-8 -*-\n",
      "\n",
      "FUNCTIONS\n",
      "    length_2(nl)\n",
      "        # Get the length of a list of numbers\n",
      "    \n",
      "    meanup_2(nl)\n",
      "        # Mean = sum(ni) / length(ni)\n",
      "    \n",
      "    medianup_2(nl)\n",
      "        # Median: Median = (n + 1) / 2\n",
      "    \n",
      "    sumup_2(nl)\n",
      "        # Sum element of a list\n",
      "\n",
      "FILE\n",
      "    c:\\users\\gamarandor\\data_science\\data_science_projects\\data_camp_projects\\unit_testing\\myproject\\module2.py\n",
      "\n",
      "\n"
     ]
    }
   ],
   "source": [
    "import module2\n",
    "help(module2)"
   ]
  },
  {
   "cell_type": "markdown",
   "id": "annoying-suffering",
   "metadata": {},
   "source": [
    "Look into module2."
   ]
  },
  {
   "cell_type": "code",
   "execution_count": 29,
   "id": "incredible-marshall",
   "metadata": {},
   "outputs": [
    {
     "data": {
      "text/plain": [
       "['__builtins__',\n",
       " '__cached__',\n",
       " '__doc__',\n",
       " '__file__',\n",
       " '__loader__',\n",
       " '__name__',\n",
       " '__package__',\n",
       " '__spec__',\n",
       " 'length_2',\n",
       " 'meanup_2',\n",
       " 'medianup_2',\n",
       " 'sumup_2']"
      ]
     },
     "execution_count": 29,
     "metadata": {},
     "output_type": "execute_result"
    }
   ],
   "source": [
    "dir(module2)"
   ]
  },
  {
   "cell_type": "code",
   "execution_count": 30,
   "id": "arctic-warrior",
   "metadata": {},
   "outputs": [],
   "source": [
    "ls4=np.arange(1,100)"
   ]
  },
  {
   "cell_type": "code",
   "execution_count": 31,
   "id": "broke-frame",
   "metadata": {},
   "outputs": [
    {
     "data": {
      "text/plain": [
       "4950"
      ]
     },
     "execution_count": 31,
     "metadata": {},
     "output_type": "execute_result"
    }
   ],
   "source": [
    "from myproject.module2 import sumup_2\n",
    "sumup_2(ls4)"
   ]
  },
  {
   "cell_type": "code",
   "execution_count": 32,
   "id": "medium-tribute",
   "metadata": {},
   "outputs": [
    {
     "data": {
      "text/plain": [
       "98"
      ]
     },
     "execution_count": 32,
     "metadata": {},
     "output_type": "execute_result"
    }
   ],
   "source": [
    "from myproject.module2 import length_2\n",
    "length_2(ls4)"
   ]
  },
  {
   "cell_type": "code",
   "execution_count": 33,
   "id": "amazing-netherlands",
   "metadata": {},
   "outputs": [
    {
     "data": {
      "text/plain": [
       "50.51020408163265"
      ]
     },
     "execution_count": 33,
     "metadata": {},
     "output_type": "execute_result"
    }
   ],
   "source": [
    "from myproject.module2 import meanup_2\n",
    "meanup_2(ls4)"
   ]
  },
  {
   "cell_type": "code",
   "execution_count": 34,
   "id": "ambient-thread",
   "metadata": {},
   "outputs": [
    {
     "data": {
      "text/plain": [
       "50"
      ]
     },
     "execution_count": 34,
     "metadata": {},
     "output_type": "execute_result"
    }
   ],
   "source": [
    "from myproject.module2 import medianup_2\n",
    "medianup_2(ls4)"
   ]
  },
  {
   "cell_type": "markdown",
   "id": "unnecessary-title",
   "metadata": {},
   "source": [
    "## Traveling at light speed\n",
    "\n",
    "<p>\n",
    "Elon Musk has made it. He can now travel with light speed.<br>\n",
    "How much time will it take him.<br>\n",
    "Fortunately module 3 can answer the questions.\n",
    "</p> \n",
    "\n",
    "<p>\n",
    "<b>Travel time and travel distance in light speed with 186000 miles per second.</b>\n",
    "</p> \n"
   ]
  },
  {
   "cell_type": "code",
   "execution_count": 35,
   "id": "completed-rough",
   "metadata": {},
   "outputs": [
    {
     "name": "stdout",
     "output_type": "stream",
     "text": [
      "Help on module module3:\n",
      "\n",
      "NAME\n",
      "    module3 - Created on Thu Apr  1 17:48:58 2021\n",
      "\n",
      "DESCRIPTION\n",
      "    @author: gamarandor\n",
      "\n",
      "FUNCTIONS\n",
      "    traveldistance_ls(s)\n",
      "        traveldistance in km with \n",
      "        light speed given seconds of traveltime\n",
      "    \n",
      "    traveltime_ls(d)\n",
      "        traveltime in seconds with \n",
      "        light speed over a distance d\n",
      "\n",
      "FILE\n",
      "    c:\\users\\gamarandor\\data_science\\data_science_projects\\data_camp_projects\\unit_testing\\myproject\\module3.py\n",
      "\n",
      "\n"
     ]
    }
   ],
   "source": [
    "import module3\n",
    "help(module3)"
   ]
  },
  {
   "cell_type": "code",
   "execution_count": 36,
   "id": "improved-neutral",
   "metadata": {},
   "outputs": [
    {
     "name": "stdout",
     "output_type": "stream",
     "text": [
      "Traveltime to Alpha Centauri in seconds: 143010752.68817204\n"
     ]
    }
   ],
   "source": [
    "# Traveltime Alpha Centauri: 26,600,000,000,000\n",
    "centauri1 = module3.traveltime_ls(26600000000000)\n",
    "print(\"Traveltime to Alpha Centauri in seconds:\", centauri1)"
   ]
  },
  {
   "cell_type": "code",
   "execution_count": 37,
   "id": "loose-tennessee",
   "metadata": {},
   "outputs": [
    {
     "name": "stdout",
     "output_type": "stream",
     "text": [
      "Traveltime to Alpha Centauri in hours: 143010752.68817204\n"
     ]
    }
   ],
   "source": [
    "centauri_h = centauri1 / 60*60\n",
    "print(\"Traveltime to Alpha Centauri in hours:\", centauri_h )\n"
   ]
  },
  {
   "cell_type": "code",
   "execution_count": 38,
   "id": "palestinian-young",
   "metadata": {},
   "outputs": [
    {
     "name": "stdout",
     "output_type": "stream",
     "text": [
      "Traveltime to Alpha Centauri in years: 4.531737289533172\n"
     ]
    }
   ],
   "source": [
    "centauri_y = centauri1 / 31557600\n",
    "print(\"Traveltime to Alpha Centauri in years:\", centauri_y)"
   ]
  },
  {
   "cell_type": "code",
   "execution_count": 39,
   "id": "suited-bidding",
   "metadata": {},
   "outputs": [
    {
     "name": "stdout",
     "output_type": "stream",
     "text": [
      "Traveldistance in miles earth to sun in seconds or 1 astronomical unit: 92814000\n"
     ]
    }
   ],
   "source": [
    "# Distance earth sun 92,960,000\n",
    "\n",
    "sun=module3.traveldistance_ls(499)\n",
    "print(\"Traveldistance in miles earth to sun in seconds or 1 astronomical unit:\", sun)"
   ]
  },
  {
   "cell_type": "code",
   "execution_count": 40,
   "id": "stuffed-wildlife",
   "metadata": {},
   "outputs": [],
   "source": [
    "# Distance mars sun 92,960,000\n",
    "mars= module3.traveldistance_ls(759)"
   ]
  },
  {
   "cell_type": "markdown",
   "id": "threatened-composer",
   "metadata": {},
   "source": [
    "The functions are working (,while physically not exact.) Those are also work in the Phyton CLI."
   ]
  },
  {
   "cell_type": "markdown",
   "id": "accessory-boxing",
   "metadata": {},
   "source": [
    "Doing geometry."
   ]
  },
  {
   "cell_type": "code",
   "execution_count": 41,
   "id": "earned-plate",
   "metadata": {},
   "outputs": [
    {
     "name": "stdout",
     "output_type": "stream",
     "text": [
      "Help on module module4:\n",
      "\n",
      "NAME\n",
      "    module4\n",
      "\n",
      "FUNCTIONS\n",
      "    area_of_circle(radius)\n",
      "    \n",
      "    area_of_rectangle(length, breadth)\n",
      "\n",
      "FILE\n",
      "    c:\\users\\gamarandor\\data_science\\data_science_projects\\data_camp_projects\\unit_testing\\myproject\\module4.py\n",
      "\n",
      "\n"
     ]
    }
   ],
   "source": [
    "import module4\n",
    "help(module4)"
   ]
  },
  {
   "cell_type": "code",
   "execution_count": 42,
   "id": "described-scene",
   "metadata": {},
   "outputs": [
    {
     "data": {
      "text/plain": [
       "78.53981633974483"
      ]
     },
     "execution_count": 42,
     "metadata": {},
     "output_type": "execute_result"
    }
   ],
   "source": [
    "module4.area_of_circle(5)"
   ]
  },
  {
   "cell_type": "code",
   "execution_count": 43,
   "id": "incorporate-refrigerator",
   "metadata": {},
   "outputs": [
    {
     "data": {
      "text/plain": [
       "42"
      ]
     },
     "execution_count": 43,
     "metadata": {},
     "output_type": "execute_result"
    }
   ],
   "source": [
    "module4.area_of_rectangle(6,7)"
   ]
  },
  {
   "cell_type": "code",
   "execution_count": null,
   "id": "southwest-gibson",
   "metadata": {},
   "outputs": [],
   "source": []
  }
 ],
 "metadata": {
  "kernelspec": {
   "display_name": "Python 3",
   "language": "python",
   "name": "python3"
  },
  "language_info": {
   "codemirror_mode": {
    "name": "ipython",
    "version": 3
   },
   "file_extension": ".py",
   "mimetype": "text/x-python",
   "name": "python",
   "nbconvert_exporter": "python",
   "pygments_lexer": "ipython3",
   "version": "3.7.10"
  }
 },
 "nbformat": 4,
 "nbformat_minor": 5
}
